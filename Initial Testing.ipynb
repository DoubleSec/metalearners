{
 "cells": [
  {
   "cell_type": "code",
   "execution_count": null,
   "metadata": {},
   "outputs": [],
   "source": [
    "import polars as pl\n",
    "import yaml\n",
    "from xgboost import XGBClassifier\n",
    "from sklearn.preprocessing import TargetEncoder\n",
    "from sklearn.compose import ColumnTransformer\n",
    "from sklearn.pipeline import Pipeline\n",
    "\n",
    "raw_data = pl.read_csv(\"./adult.csv\")\n",
    "\n",
    "with open(\"config.yaml\", \"r\") as f:\n",
    "    config = yaml.load(f, Loader=yaml.CLoader)"
   ]
  },
  {
   "cell_type": "code",
   "execution_count": null,
   "metadata": {},
   "outputs": [],
   "source": [
    "data = (\n",
    "    raw_data.with_columns(\n",
    "        **{\n",
    "            \"grad-degree\": (pl.col(\"educational-num\") > 13).cast(pl.Int32),\n",
    "            \"income\": pl.col(\"income\") == \">50K\",\n",
    "        }\n",
    "    )\n",
    "    .select(config[\"numeric_predictors\"] + config[\"categorical_predictors\"] + [config[\"target\"]] + config[\"treatment\"])\n",
    "    # Randomly re-order\n",
    "    .sample(fraction=1.0, shuffle=False, seed=7700)\n",
    ")\n",
    "train_data = data[:int(data.shape[0] * 0.75)]\n",
    "validation_data = data[int(data.shape[0] * 0.75):]"
   ]
  },
  {
   "cell_type": "markdown",
   "metadata": {},
   "source": [
    "## S-Learner\n",
    "\n",
    "The S-learner uses a single model, where the treatment is indicated by a predictor in the model."
   ]
  },
  {
   "cell_type": "code",
   "execution_count": null,
   "metadata": {},
   "outputs": [],
   "source": [
    "# Divide into predictors and targets.\n",
    "x_train = train_data[config[\"numeric_predictors\"] + config[\"categorical_predictors\"] + config[\"treatment\"]]\n",
    "y_train = train_data[config[\"target\"]]\n",
    "\n",
    "x_validation = validation_data[config[\"numeric_predictors\"] + config[\"categorical_predictors\"] + config[\"treatment\"]]\n",
    "y_validation = validation_data[config[\"target\"]]\n",
    "\n",
    "encoder = ColumnTransformer(\n",
    "    transformers=[\n",
    "        (\"target_encoding\", TargetEncoder(target_type=\"binary\"), config[\"categorical_predictors\"]),\n",
    "        (\"passthrough\", \"passthrough\", config[\"numeric_predictors\"] + config[\"treatment\"])\n",
    "    ]\n",
    ")\n",
    "encoder.set_output(transform=\"polars\")\n",
    "\n",
    "x_train_tr = encoder.fit_transform(x_train, y_train)\n",
    "x_validation_tr = encoder.transform(x_validation)\n",
    "\n",
    "s_learner = XGBClassifier(**config[\"s_learner_params\"])\n",
    "eval_set = [(x_train_tr, y_train), (x_validation_tr, y_validation)]\n",
    "s_learner.fit(x_train_tr, y_train, eval_set=eval_set, verbose=10)\n",
    "\n",
    "s_learner_pipeline = Pipeline(\n",
    "    [\n",
    "        (\"encoder\", encoder),\n",
    "        (\"model\", s_learner)\n",
    "    ]\n",
    ")\n",
    "\n",
    "# Now let's predict with no graduate degrees and graduate degrees\n",
    "x_validation_ng = x_validation.with_columns(**{\"grad-degree\": pl.lit(0)})\n",
    "no_grad_p = s_learner_pipeline.predict_proba(x_validation_ng)[:, 1]\n",
    "x_validation_g = x_validation.with_columns(**{\"grad-degree\": pl.lit(1)})\n",
    "grad_p = s_learner_pipeline.predict_proba(x_validation_g)[:, 1]\n",
    "\n",
    "x_validation = x_validation.with_columns(\n",
    "    grad_p=grad_p,\n",
    "    no_grad_p=no_grad_p,\n",
    "    grad_cate=grad_p-no_grad_p,\n",
    "    income=y_validation,\n",
    ")"
   ]
  },
  {
   "cell_type": "code",
   "execution_count": null,
   "metadata": {},
   "outputs": [],
   "source": [
    "x_validation.group_by(pl.col(\"gender\")).agg(\n",
    "    base_rate=pl.col(\"income\").mean(),\n",
    "    ate=pl.col(\"grad_cate\").mean()\n",
    ")"
   ]
  },
  {
   "cell_type": "code",
   "execution_count": null,
   "metadata": {},
   "outputs": [],
   "source": [
    "x_validation.group_by(pl.col(\"race\")).agg(\n",
    "    base_rate=pl.col(\"income\").mean(),\n",
    "    ate=pl.col(\"grad_cate\").mean()\n",
    ")"
   ]
  },
  {
   "cell_type": "markdown",
   "metadata": {},
   "source": [
    "## T-Learner\n",
    "\n",
    "The T-learner uses two models, one for the treated group and then one for the control group, and then looks at the difference between the scores from each model to estimate the treatment effect."
   ]
  },
  {
   "cell_type": "code",
   "execution_count": null,
   "metadata": {},
   "outputs": [],
   "source": [
    "# First we train the no treatment model\n",
    "ng_train_data = train_data.filter(pl.col(config[\"treatment\"]) == 0)\n",
    "x_ng_train = ng_train_data[config[\"numeric_predictors\"] + config[\"categorical_predictors\"]]\n",
    "y_ng_train = ng_train_data[config[\"target\"]]\n",
    "\n",
    "ng_validation_data = validation_data.filter(pl.col(config[\"treatment\"]) == 0)\n",
    "x_ng_validation = ng_validation_data[config[\"numeric_predictors\"] + config[\"categorical_predictors\"]]\n",
    "y_ng_validation = ng_validation_data[config[\"target\"]].to_numpy()\n",
    "\n",
    "ng_encoder = ColumnTransformer(\n",
    "    transformers=[\n",
    "        (\"target_encoding\", TargetEncoder(target_type=\"binary\"), config[\"categorical_predictors\"]),\n",
    "        (\"passthrough\", \"passthrough\", config[\"numeric_predictors\"])\n",
    "    ]\n",
    ")\n",
    "ng_encoder.set_output(transform=\"polars\")\n",
    "\n",
    "x_ng_train_tr = ng_encoder.fit_transform(x_ng_train, y_ng_train)\n",
    "x_ng_validation_tr = ng_encoder.transform(x_ng_validation)\n",
    "\n",
    "ng_learner = XGBClassifier(**config[\"s_learner_params\"])\n",
    "eval_set = [(x_ng_train_tr, y_ng_train), (x_ng_validation_tr, y_ng_validation)]\n",
    "s_learner.fit(x_ng_train_tr, y_ng_train, eval_set=eval_set, verbose=10)\n",
    "\n",
    "t_learner_ng_pipeline = Pipeline(\n",
    "    [\n",
    "        (\"encoder\", encoder),\n",
    "        (\"model\", s_learner)\n",
    "    ]\n",
    ")"
   ]
  }
 ],
 "metadata": {
  "kernelspec": {
   "display_name": "adult",
   "language": "python",
   "name": "python3"
  },
  "language_info": {
   "codemirror_mode": {
    "name": "ipython",
    "version": 3
   },
   "file_extension": ".py",
   "mimetype": "text/x-python",
   "name": "python",
   "nbconvert_exporter": "python",
   "pygments_lexer": "ipython3",
   "version": "3.11.9"
  }
 },
 "nbformat": 4,
 "nbformat_minor": 2
}
