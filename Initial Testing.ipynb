{
 "cells": [
  {
   "cell_type": "markdown",
   "metadata": {},
   "source": [
    "## Intro\n",
    "\n",
    "We'll be going through the three meta-learning frameworks covered in Meta-learners for [Estimating Heterogeneous Treatment Effects using Machine Learning](https://arxiv.org/abs/1706.03461).\n",
    "\n",
    "The dataset we're using the famous \"Adult\" dataset, which has basic demographic and employment information for 50k-ish adults from the 1994 census. The basic task is to predict which of them make more than $50,000 a year. Since this is about conditional treatment effect estimation, we'll estimate the \n",
    "\n",
    "(This dataset is kind of equivalent of MNIST for tabular machine learning, both in terms of ubiquity and of being a little bit of a meme.)\n",
    "\n",
    "(This notebook will require Python 3.11 to run, if you're having issues.)"
   ]
  },
  {
   "cell_type": "code",
   "execution_count": null,
   "metadata": {},
   "outputs": [],
   "source": [
    "import polars as pl\n",
    "import yaml\n",
    "\n",
    "from train import setup_data, train_model\n",
    "\n",
    "x_train, x_valid = setup_data(\"./adult.csv\")"
   ]
  },
  {
   "cell_type": "markdown",
   "metadata": {},
   "source": [
    "## S-Learner\n",
    "\n",
    "The S-learner uses a single model, where the treatment is indicated by a predictor in the model."
   ]
  },
  {
   "cell_type": "code",
   "execution_count": null,
   "metadata": {},
   "outputs": [],
   "source": [
    "with open(\"cfg/s_learner.yaml\", \"r\") as f:\n",
    "    config = yaml.load(f, Loader=yaml.CLoader)\n",
    "\n",
    "s_learner = train_model(x_train, x_valid, config)\n",
    "\n",
    "# # Now let's predict with no graduate degrees and graduate degrees\n",
    "x_valid_ng = x_valid.with_columns(**{\"grad-degree\": pl.lit(0)})\n",
    "no_grad_p = s_learner.predict_proba(x_valid_ng)[:, 1]\n",
    "x_valid_g = x_valid.with_columns(**{\"grad-degree\": pl.lit(1)})\n",
    "grad_p = s_learner.predict_proba(x_valid_g)[:, 1]\n",
    "\n",
    "s_results = x_valid.with_columns(\n",
    "    grad_p=grad_p,\n",
    "    no_grad_p=no_grad_p,\n",
    "    grad_cate=grad_p - no_grad_p,\n",
    ")"
   ]
  },
  {
   "cell_type": "markdown",
   "metadata": {},
   "source": [
    "Now that we have a model, let's look at some of how the model behaves on the validation set. We'll score each individual twice:\n",
    "\n",
    "  - Once with the treatment variable `grad-degree` set to 1.\n",
    "  - Once with it set to 0.\n",
    "\n",
    "Then we can look at the difference between the two predictions, which is our estimated treatment effect.\n",
    "\n",
    "Let's see what this looks like."
   ]
  },
  {
   "cell_type": "code",
   "execution_count": null,
   "metadata": {},
   "outputs": [],
   "source": [
    "s_results.select(\n",
    "    config[\"categorical\"]\n",
    "    + config[\"numeric\"]\n",
    "    + [\"grad_p\", \"no_grad_p\", \"grad_cate\"]\n",
    "    + [config[\"target\"]]\n",
    ")"
   ]
  },
  {
   "cell_type": "code",
   "execution_count": null,
   "metadata": {},
   "outputs": [],
   "source": [
    "# Show the average treatment effect for specific groups.\n",
    "# We'll look at gender because it's easy.\n",
    "display(\n",
    "    s_results.group_by(pl.col(\"gender\")).agg(\n",
    "        base_rate=pl.col(\"income\").mean(), ate=pl.col(\"grad_cate\").mean()\n",
    "    )\n",
    ")\n",
    "# Does this look right?\n",
    "# First, for women\n",
    "display(\n",
    "    s_results.filter(\n",
    "        pl.col(\"gender\") == \"Female\",\n",
    "        pl.col(\"grad-degree\") == 1,\n",
    "    ).select(\n",
    "        average_untreated=pl.col(\"no_grad_p\").mean(),\n",
    "        average_cte=pl.col(\"grad_cate\").mean(),\n",
    "        average_target=pl.col(\"income\").mean(),\n",
    "    )\n",
    ")\n",
    "# Then for men\n",
    "display(\n",
    "    s_results.filter(\n",
    "        pl.col(\"gender\") == \"Male\",\n",
    "        pl.col(\"grad-degree\") == 1,\n",
    "    ).select(\n",
    "        average_untreated=pl.col(\"no_grad_p\").mean(),\n",
    "        average_cte=pl.col(\"grad_cate\").mean(),\n",
    "        average_target=pl.col(\"income\").mean(),\n",
    "    )\n",
    ")\n",
    "\n",
    "# Overall\n",
    "display(\n",
    "    s_results.filter(\n",
    "        pl.col(\"grad-degree\") == 1,\n",
    "    ).select(\n",
    "        average_untreated=pl.col(\"no_grad_p\").mean(),\n",
    "        average_cte=pl.col(\"grad_cate\").mean(),\n",
    "        average_target=pl.col(\"income\").mean(),\n",
    "    )\n",
    ")"
   ]
  },
  {
   "cell_type": "markdown",
   "metadata": {},
   "source": [
    "## T-Learner\n",
    "\n",
    "The T-learner uses two models, one for the treated group and then one for the control group, and then looks at the difference between the scores from each model to estimate the treatment effect."
   ]
  },
  {
   "cell_type": "code",
   "execution_count": null,
   "metadata": {},
   "outputs": [],
   "source": [
    "with open(\"cfg/t_learner.yaml\", \"r\") as f:\n",
    "    config = yaml.load(f, Loader=yaml.CLoader)\n",
    "\n",
    "# First we train the no treatment model\n",
    "ng_x_train = x_train.filter(pl.col(config[\"treatment\"]) == 0)\n",
    "ng_x_valid = x_valid.filter(pl.col(config[\"treatment\"]) == 0)\n",
    "\n",
    "\n",
    "t_learner_ng = train_model(ng_x_train, ng_x_valid, config)\n",
    "\n",
    "# Then the treatment model\n",
    "# First we train the no treatment model\n",
    "g_x_train = x_train.filter(pl.col(config[\"treatment\"]) == 1)\n",
    "g_x_valid = x_valid.filter(pl.col(config[\"treatment\"]) == 1)\n",
    "\n",
    "t_learner_g = train_model(g_x_train, g_x_valid, config)\n",
    "\n",
    "# # Now let's predict with no graduate degrees and graduate degrees\n",
    "no_grad_p = t_learner_ng.predict_proba(x_valid)[:, 1]\n",
    "grad_p = t_learner_g.predict_proba(x_valid)[:, 1]\n",
    "\n",
    "t_results = x_valid.with_columns(\n",
    "    grad_p=grad_p,\n",
    "    no_grad_p=no_grad_p,\n",
    "    grad_cate=grad_p - no_grad_p,\n",
    ")"
   ]
  },
  {
   "cell_type": "markdown",
   "metadata": {},
   "source": [
    "This time we have two models. We score everyone in the validation dataset with both models and then look at the score differences. This will look similar to the S-Learner."
   ]
  },
  {
   "cell_type": "code",
   "execution_count": null,
   "metadata": {},
   "outputs": [],
   "source": [
    "t_results.select(\n",
    "    config[\"categorical\"]\n",
    "    + [config[\"treatment\"]]\n",
    "    + config[\"numeric\"]\n",
    "    + [\"grad_p\", \"no_grad_p\", \"grad_cate\"]\n",
    "    + [config[\"target\"]]\n",
    ")"
   ]
  },
  {
   "cell_type": "markdown",
   "metadata": {},
   "source": [
    "If we look at estimated treatment effects overall and for specific subgroups, we find that the estimated effects here are larger."
   ]
  },
  {
   "cell_type": "code",
   "execution_count": null,
   "metadata": {},
   "outputs": [],
   "source": [
    "# Show the average treatment effect for specific groups.\n",
    "# We'll look at gender because it's easy.\n",
    "display(\n",
    "    t_results.group_by(pl.col(\"gender\")).agg(\n",
    "        base_rate=pl.col(\"income\").mean(), ate=pl.col(\"grad_cate\").mean()\n",
    "    )\n",
    ")\n",
    "# Does this look right?\n",
    "# First, for women\n",
    "display(\n",
    "    t_results.filter(\n",
    "        pl.col(\"gender\") == \"Female\",\n",
    "        pl.col(\"grad-degree\") == 1,\n",
    "    ).select(\n",
    "        average_untreated=pl.col(\"no_grad_p\").mean(),\n",
    "        average_cte=pl.col(\"grad_cate\").mean(),\n",
    "        average_target=pl.col(\"income\").mean(),\n",
    "    )\n",
    ")\n",
    "# Then for men\n",
    "display(\n",
    "    t_results.filter(\n",
    "        pl.col(\"gender\") == \"Male\",\n",
    "        pl.col(\"grad-degree\") == 1,\n",
    "    ).select(\n",
    "        average_untreated=pl.col(\"no_grad_p\").mean(),\n",
    "        average_cte=pl.col(\"grad_cate\").mean(),\n",
    "        average_target=pl.col(\"income\").mean(),\n",
    "    )\n",
    ")\n",
    "\n",
    "# Overall\n",
    "display(\n",
    "    t_results.filter(\n",
    "        pl.col(\"grad-degree\") == 1,\n",
    "    ).select(\n",
    "        average_untreated=pl.col(\"no_grad_p\").mean(),\n",
    "        average_cte=pl.col(\"grad_cate\").mean(),\n",
    "        average_target=pl.col(\"income\").mean(),\n",
    "    )\n",
    ")"
   ]
  }
 ],
 "metadata": {
  "kernelspec": {
   "display_name": "adult",
   "language": "python",
   "name": "python3"
  },
  "language_info": {
   "codemirror_mode": {
    "name": "ipython",
    "version": 3
   },
   "file_extension": ".py",
   "mimetype": "text/x-python",
   "name": "python",
   "nbconvert_exporter": "python",
   "pygments_lexer": "ipython3",
   "version": "3.11.9"
  }
 },
 "nbformat": 4,
 "nbformat_minor": 2
}
